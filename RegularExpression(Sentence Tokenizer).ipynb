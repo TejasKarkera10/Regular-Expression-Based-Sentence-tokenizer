{
 "cells": [
  {
   "cell_type": "code",
   "execution_count": 1,
   "id": "circular-joyce",
   "metadata": {},
   "outputs": [],
   "source": [
    "import re\n",
    "import pandas as pd\n",
    "import numpy as np"
   ]
  },
  {
   "cell_type": "code",
   "execution_count": 2,
   "id": "dependent-message",
   "metadata": {},
   "outputs": [],
   "source": [
    "Answers = []"
   ]
  },
  {
   "cell_type": "code",
   "execution_count": 3,
   "id": "prescribed-volleyball",
   "metadata": {},
   "outputs": [],
   "source": [
    "with open(\"Input\", encoding='utf-8') as file:\n",
    "    lines = (line.rstrip() for line in file)\n",
    "    lines = list(line for line in lines if line)\n",
    "    questions = list(filter(lambda line: re.search(\"[1-9].*\\\\?\", line), lines))\n",
    "    answer = \"\"\n",
    "    for line in lines:\n",
    "        if line not in questions:\n",
    "            answer += line\n",
    "        else:\n",
    "            answer += '\\n'\n",
    "            Answers.append(answer)\n",
    "            answer = \"\"\n",
    "    \n",
    "    answer += '\\n'\n",
    "    Answers.append(answer)\n",
    "    file.close()"
   ]
  },
  {
   "cell_type": "code",
   "execution_count": 4,
   "id": "modified-continent",
   "metadata": {},
   "outputs": [],
   "source": [
    "Answers = Answers[1:]"
   ]
  },
  {
   "cell_type": "code",
   "execution_count": 5,
   "id": "determined-beginning",
   "metadata": {},
   "outputs": [],
   "source": [
    "Df = pd.DataFrame(list(zip(questions,Answers)),columns=['Questions','Answers'])\n",
    "Df.index = np.arange(1, len(Df)+1)"
   ]
  },
  {
   "cell_type": "code",
   "execution_count": 6,
   "id": "extra-wrong",
   "metadata": {},
   "outputs": [],
   "source": [
    "Df.to_csv(\"MyFinalOutput.csv\")"
   ]
  },
  {
   "cell_type": "code",
   "execution_count": 7,
   "id": "restricted-jacksonville",
   "metadata": {},
   "outputs": [
    {
     "data": {
      "text/plain": [
       "(54, 2)"
      ]
     },
     "execution_count": 7,
     "metadata": {},
     "output_type": "execute_result"
    }
   ],
   "source": [
    "Df.shape"
   ]
  },
  {
   "cell_type": "code",
   "execution_count": null,
   "id": "thousand-interface",
   "metadata": {},
   "outputs": [],
   "source": []
  }
 ],
 "metadata": {
  "kernelspec": {
   "display_name": "Python 3",
   "language": "python",
   "name": "python3"
  },
  "language_info": {
   "codemirror_mode": {
    "name": "ipython",
    "version": 3
   },
   "file_extension": ".py",
   "mimetype": "text/x-python",
   "name": "python",
   "nbconvert_exporter": "python",
   "pygments_lexer": "ipython3",
   "version": "3.5.4"
  }
 },
 "nbformat": 4,
 "nbformat_minor": 5
}
